{
 "cells": [
  {
   "cell_type": "code",
   "execution_count": 59,
   "metadata": {
    "ExecuteTime": {
     "end_time": "2020-02-04T22:41:16.015566Z",
     "start_time": "2020-02-04T22:41:16.011411Z"
    }
   },
   "outputs": [],
   "source": [
    "import pandas as pd\n",
    "import numpy as np\n",
    "import matplotlib.pyplot as plt\n",
    "import seaborn as sns\n",
    "import re\n",
    "import requests\n",
    "from datetime import datetime as dt, timedelta, date, time\n",
    "import datetime\n",
    "from tqdm import tqdm\n",
    "from bs4 import BeautifulSoup\n",
    "import joblib\n",
    "import spacy\n",
    "from spacy.lang.pt.stop_words import STOP_WORDS\n",
    "from spacy.lang.pt import PortugueseDefaults\n",
    "from spacy.symbols import IS_PUNCT\n",
    "from spacy.tokenizer import Tokenizer\n",
    "from nltk.util import ngrams\n",
    "import multiprocessing"
   ]
  },
  {
   "cell_type": "code",
   "execution_count": 2,
   "metadata": {
    "ExecuteTime": {
     "end_time": "2020-02-04T22:04:13.080622Z",
     "start_time": "2020-02-04T22:04:13.075185Z"
    }
   },
   "outputs": [],
   "source": [
    "def get_stock_data():\n",
    "    pass\n",
    "\n",
    "def update_stock_data():\n",
    "    pass"
   ]
  },
  {
   "cell_type": "code",
   "execution_count": 3,
   "metadata": {
    "ExecuteTime": {
     "end_time": "2020-02-04T22:04:13.098312Z",
     "start_time": "2020-02-04T22:04:13.082888Z"
    }
   },
   "outputs": [],
   "source": [
    "def load_stock_data(ticker='VALE3'):\n",
    "    '''Load csv file to a pandas dataframe.\n",
    "    \n",
    "    Args:\n",
    "        symbol: company's symbol\n",
    "        \n",
    "    Returns:\n",
    "        A pandas dataframe containing the stock's data.\n",
    "    '''\n",
    "    \n",
    "    df = pd.read_csv(f'data/{ticker}.csv')\n",
    "    df.columns = ['date', 'close', 'open', 'high', 'low', 'volume', 'pct_change']\n",
    "    \n",
    "    return df"
   ]
  },
  {
   "cell_type": "code",
   "execution_count": 4,
   "metadata": {
    "ExecuteTime": {
     "end_time": "2020-02-04T22:04:13.107996Z",
     "start_time": "2020-02-04T22:04:13.101085Z"
    },
    "scrolled": true
   },
   "outputs": [],
   "source": [
    "def clean_stock_data(df):\n",
    "    '''Clean dataframe: change variables to appropriate dtypes.\n",
    "    \n",
    "    Args:\n",
    "        df: pandas dataframe\n",
    "        \n",
    "    Returns:\n",
    "        A cleaned dataframe ready to be modeled.\n",
    "    '''\n",
    "    \n",
    "    df['date'] = pd.to_datetime(df['date'], format='%d.%m.%Y')\n",
    "    \n",
    "    cols_num = ['close', 'open', 'high', 'low']\n",
    "    df[cols_num] = df[cols_num].apply(lambda col: col.str.replace(',', '.').astype(float), axis=1)\n",
    "    \n",
    "    df['volume'] = df['volume'].str.replace(',', '').str.replace('M', '000000')\n",
    "    df['volume'] = df['volume'].str.replace(',', '').str.replace('K', '000')\n",
    "    df['volume'] = df['volume'].astype(int)\n",
    "    \n",
    "    df['pct_change'] = df['pct_change'].str.replace(',', '.').str.rstrip('%')\n",
    "    df['pct_change'] = df['pct_change'].astype(float) / 100\n",
    "    \n",
    "    return df"
   ]
  },
  {
   "cell_type": "code",
   "execution_count": 5,
   "metadata": {
    "ExecuteTime": {
     "end_time": "2020-02-04T22:04:13.117208Z",
     "start_time": "2020-02-04T22:04:13.109921Z"
    }
   },
   "outputs": [],
   "source": [
    "def scraper(url):\n",
    "    '''Scrape news data on stocks from a given url.\n",
    "    \n",
    "    Args:\n",
    "        url: a string containing the news' url\n",
    "        \n",
    "    Returns:\n",
    "        datetime: a datetime object containing date and time when news was released to the public\n",
    "        text: the contents of the news\n",
    "    '''\n",
    "    \n",
    "    page = requests.get(url, headers={'User-Agent': 'Chrome/79.0.3945.130'})\n",
    "    soup = BeautifulSoup(page.content, 'html.parser')\n",
    "    \n",
    "    content_section = soup.find('div', {'class': 'contentSectionDetails'})\n",
    "    datetime = dt.strptime(re.search(r'(\\d{2}.\\d{2}.\\d{4} \\d{2}:\\d{2})',\n",
    "                                     content_section.find('span').text).group(),\n",
    "                           '%d.%m.%Y %H:%M')\n",
    "    \n",
    "    text_section = soup.find('div', {'class': 'WYSIWYG articlePage'}).find_all('p')\n",
    "    text = ' '.join([text_section[i].text for i in range(1, len(text_section))])\n",
    "    \n",
    "    return datetime, text"
   ]
  },
  {
   "cell_type": "code",
   "execution_count": 6,
   "metadata": {
    "ExecuteTime": {
     "end_time": "2020-02-04T22:04:13.125572Z",
     "start_time": "2020-02-04T22:04:13.118728Z"
    }
   },
   "outputs": [],
   "source": [
    "# def get_news_data():\n",
    "#     '''Get news on stocks from Investing.com website.\n",
    "    \n",
    "#     Returns:\n",
    "#         A pandas dataframe containing datetime, title and contents from the news.\n",
    "#     '''\n",
    "    \n",
    "#     url_investing = 'https://br.investing.com'\n",
    "#     title_ls = []\n",
    "#     dt_ls = []\n",
    "#     text_ls = []\n",
    "#     for page in tqdm(range(1, 321)):\n",
    "#         url = f'/equities/vale-on-n1-news/{page}'\n",
    "#         page = requests.get(url_investing + url,\n",
    "#                             headers={'User-Agent': 'Chrome/79.0.3945.130'})\n",
    "#         soup = BeautifulSoup(page.content, 'html.parser')\n",
    "        \n",
    "#         anchors_ls = [art.find('a') for art in soup.find_all('article')]\n",
    "#         for a in anchors_ls:\n",
    "#             if a['href'].startswith('/news'):\n",
    "#                 title_ls.append(a.find('img').get('alt'))\n",
    "#                 url_contents = scraper(url_investing + a['href'])\n",
    "#                 dt_ls.append(url_contents[0])\n",
    "#                 text_ls.append(url_contents[1])\n",
    "        \n",
    "#     news_data = {'datetime': dt_ls, 'title': title_ls, 'text': text_ls}\n",
    "#     news_df = pd.DataFrame(news_data)\n",
    "        \n",
    "#     return news_df"
   ]
  },
  {
   "cell_type": "code",
   "execution_count": 7,
   "metadata": {
    "ExecuteTime": {
     "end_time": "2020-02-04T22:04:13.134699Z",
     "start_time": "2020-02-04T22:04:13.127209Z"
    }
   },
   "outputs": [],
   "source": [
    "def get_news_data(page):\n",
    "    '''Get news on stocks from the page in Investing.com website.\n",
    "    \n",
    "    Args:\n",
    "        page: the page from which the news will be extracted\n",
    "    \n",
    "    Returns:\n",
    "        A pandas dataframe for the page containing datetime, title and contents from the news.\n",
    "    '''\n",
    "    \n",
    "    url_investing = 'https://br.investing.com'\n",
    "    title_ls = []\n",
    "    dt_ls = []\n",
    "    text_ls = []\n",
    "    url = f'/equities/vale-on-n1-news/{page}'\n",
    "    result = requests.get(url_investing + url,\n",
    "                          headers={'User-Agent': 'Chrome/79.0.3945.130'})\n",
    "    soup = BeautifulSoup(result.content, 'html.parser')\n",
    "\n",
    "    anchors_ls = [art.find('a') for art in soup.find_all('article')]\n",
    "    for a in anchors_ls:\n",
    "        if a['href'].startswith('/news'):\n",
    "            title_ls.append(a.find('img').get('alt'))\n",
    "            url_contents = scraper(url_investing + a['href'])\n",
    "            dt_ls.append(url_contents[0])\n",
    "            text_ls.append(url_contents[1])\n",
    "\n",
    "    news_data = {'datetime': dt_ls, 'title': title_ls, 'text': text_ls}\n",
    "    news_df = pd.DataFrame(news_data)\n",
    "    \n",
    "    joblib.dump(news_df, f'data/news/news_df{page}.pkl')\n",
    "    \n",
    "    return news_df"
   ]
  },
  {
   "cell_type": "code",
   "execution_count": 8,
   "metadata": {
    "ExecuteTime": {
     "end_time": "2020-02-04T22:04:13.143265Z",
     "start_time": "2020-02-04T22:04:13.137038Z"
    }
   },
   "outputs": [],
   "source": [
    "def output_news_df():\n",
    "    '''Parallelizes the extraction of news data using the get_news_data function.\n",
    "    \n",
    "    Returns:\n",
    "        A pandas dataframe containing all the news from 2016 until today.\n",
    "    '''\n",
    "    \n",
    "    pool = multiprocessing.Pool()\n",
    "    df_ls = pool.map(get_news_data, range(1, 322))\n",
    "    pool.terminate()\n",
    "    pool.join()\n",
    "    \n",
    "    news_df = (pd.concat(df_ls, axis=0)\n",
    "               .drop_duplicates()\n",
    "               .sort_values('datetime', ascending=False)\n",
    "               .reset_index(drop=True))\n",
    "    \n",
    "    joblib.dump(news_df, 'data/news_df.pkl')\n",
    "    \n",
    "    return news_df"
   ]
  },
  {
   "cell_type": "code",
   "execution_count": 9,
   "metadata": {
    "ExecuteTime": {
     "end_time": "2020-02-04T22:04:13.151660Z",
     "start_time": "2020-02-04T22:04:13.145286Z"
    }
   },
   "outputs": [],
   "source": [
    "# news_df = output_news_df()"
   ]
  },
  {
   "cell_type": "code",
   "execution_count": 10,
   "metadata": {
    "ExecuteTime": {
     "end_time": "2020-02-04T22:04:13.247106Z",
     "start_time": "2020-02-04T22:04:13.153031Z"
    }
   },
   "outputs": [],
   "source": [
    "news_df = joblib.load('data/news_df.pkl')"
   ]
  },
  {
   "cell_type": "code",
   "execution_count": 11,
   "metadata": {
    "ExecuteTime": {
     "end_time": "2020-02-04T22:04:13.254675Z",
     "start_time": "2020-02-04T22:04:13.248508Z"
    }
   },
   "outputs": [],
   "source": [
    "def clean_news_df(df):\n",
    "    '''Clean and aggregate news by date. Given a date, only news realeased before market closure are aggregated.\n",
    "    \n",
    "    Args:\n",
    "        df: pandas dataframe containing all the news ordered by datetime\n",
    "        \n",
    "    Returns:\n",
    "        A pandas dataframe with all the news aggregated by date.\n",
    "    '''\n",
    "    \n",
    "    df = (df[(df['datetime'] <= dt(2020, 1, 31, 18)) & (df['datetime'] >= dt(2016, 1, 4))]\n",
    "          .reset_index(drop=True))\n",
    "    \n",
    "    start = date(2016, 1, 3)\n",
    "    end = date(2020, 1, 31)\n",
    "    date_span = [end - timedelta(days=d) for d in range(0, (end - start).days)]\n",
    "\n",
    "    date_ls = []\n",
    "    news_ls = []\n",
    "    for d in date_span:\n",
    "        date_ls.append(d)\n",
    "\n",
    "        window = ((df['datetime'] < dt.combine(d, time(18))) &\\\n",
    "                  (df['datetime'] >= dt.combine(d - timedelta(days=1), time(18))))\n",
    "        news_ls.append(list(df.loc[window, 'text'].values))\n",
    "\n",
    "    agg_news = {'date': date_ls, 'news': news_ls}\n",
    "    agg_news_df = pd.DataFrame(agg_news)\n",
    "    agg_news_df['date'] = pd.to_datetime(agg_news_df['date'], infer_datetime_format=True)\n",
    "    \n",
    "    return agg_news_df"
   ]
  },
  {
   "cell_type": "code",
   "execution_count": 12,
   "metadata": {
    "ExecuteTime": {
     "end_time": "2020-02-04T22:04:14.590846Z",
     "start_time": "2020-02-04T22:04:13.256308Z"
    }
   },
   "outputs": [],
   "source": [
    "vale3_df = clean_stock_data(load_stock_data())\n",
    "agg_news_df = clean_news_df(news_df)\n",
    "full_df = vale3_df.merge(agg_news_df, on='date')"
   ]
  },
  {
   "cell_type": "code",
   "execution_count": 13,
   "metadata": {
    "ExecuteTime": {
     "end_time": "2020-02-04T22:04:14.608175Z",
     "start_time": "2020-02-04T22:04:14.592510Z"
    },
    "scrolled": true
   },
   "outputs": [
    {
     "data": {
      "text/html": [
       "<div>\n",
       "<style scoped>\n",
       "    .dataframe tbody tr th:only-of-type {\n",
       "        vertical-align: middle;\n",
       "    }\n",
       "\n",
       "    .dataframe tbody tr th {\n",
       "        vertical-align: top;\n",
       "    }\n",
       "\n",
       "    .dataframe thead th {\n",
       "        text-align: right;\n",
       "    }\n",
       "</style>\n",
       "<table border=\"1\" class=\"dataframe\">\n",
       "  <thead>\n",
       "    <tr style=\"text-align: right;\">\n",
       "      <th></th>\n",
       "      <th>date</th>\n",
       "      <th>close</th>\n",
       "      <th>open</th>\n",
       "      <th>high</th>\n",
       "      <th>low</th>\n",
       "      <th>volume</th>\n",
       "      <th>pct_change</th>\n",
       "      <th>news</th>\n",
       "    </tr>\n",
       "  </thead>\n",
       "  <tbody>\n",
       "    <tr>\n",
       "      <th>0</th>\n",
       "      <td>2020-01-31</td>\n",
       "      <td>50.27</td>\n",
       "      <td>50.96</td>\n",
       "      <td>51.06</td>\n",
       "      <td>49.80</td>\n",
       "      <td>2999000000</td>\n",
       "      <td>-0.0239</td>\n",
       "      <td>[SÃO PAULO (Reuters) - A Agência Nacional de T...</td>\n",
       "    </tr>\n",
       "    <tr>\n",
       "      <th>1</th>\n",
       "      <td>2020-01-30</td>\n",
       "      <td>51.50</td>\n",
       "      <td>49.97</td>\n",
       "      <td>51.50</td>\n",
       "      <td>49.80</td>\n",
       "      <td>2308000000</td>\n",
       "      <td>0.0148</td>\n",
       "      <td>[RIO DE JANEIRO (Reuters) - A Petrobras (SA:PE...</td>\n",
       "    </tr>\n",
       "    <tr>\n",
       "      <th>2</th>\n",
       "      <td>2020-01-29</td>\n",
       "      <td>50.75</td>\n",
       "      <td>51.70</td>\n",
       "      <td>51.89</td>\n",
       "      <td>50.46</td>\n",
       "      <td>2332000000</td>\n",
       "      <td>-0.0088</td>\n",
       "      <td>[Entretanto, a empresa pontuou que não houve a...</td>\n",
       "    </tr>\n",
       "    <tr>\n",
       "      <th>3</th>\n",
       "      <td>2020-01-28</td>\n",
       "      <td>51.20</td>\n",
       "      <td>51.20</td>\n",
       "      <td>52.09</td>\n",
       "      <td>51.08</td>\n",
       "      <td>2305000000</td>\n",
       "      <td>0.0137</td>\n",
       "      <td>[Os empregados da Vale na China estão em regim...</td>\n",
       "    </tr>\n",
       "    <tr>\n",
       "      <th>4</th>\n",
       "      <td>2020-01-27</td>\n",
       "      <td>50.51</td>\n",
       "      <td>51.66</td>\n",
       "      <td>51.82</td>\n",
       "      <td>50.48</td>\n",
       "      <td>3878000000</td>\n",
       "      <td>-0.0612</td>\n",
       "      <td>[Investing.com - Na parte final da tarde de on...</td>\n",
       "    </tr>\n",
       "  </tbody>\n",
       "</table>\n",
       "</div>"
      ],
      "text/plain": [
       "        date  close   open   high    low      volume  pct_change  \\\n",
       "0 2020-01-31  50.27  50.96  51.06  49.80  2999000000     -0.0239   \n",
       "1 2020-01-30  51.50  49.97  51.50  49.80  2308000000      0.0148   \n",
       "2 2020-01-29  50.75  51.70  51.89  50.46  2332000000     -0.0088   \n",
       "3 2020-01-28  51.20  51.20  52.09  51.08  2305000000      0.0137   \n",
       "4 2020-01-27  50.51  51.66  51.82  50.48  3878000000     -0.0612   \n",
       "\n",
       "                                                news  \n",
       "0  [SÃO PAULO (Reuters) - A Agência Nacional de T...  \n",
       "1  [RIO DE JANEIRO (Reuters) - A Petrobras (SA:PE...  \n",
       "2  [Entretanto, a empresa pontuou que não houve a...  \n",
       "3  [Os empregados da Vale na China estão em regim...  \n",
       "4  [Investing.com - Na parte final da tarde de on...  "
      ]
     },
     "execution_count": 13,
     "metadata": {},
     "output_type": "execute_result"
    }
   ],
   "source": [
    "full_df.head()"
   ]
  },
  {
   "cell_type": "code",
   "execution_count": 37,
   "metadata": {
    "ExecuteTime": {
     "end_time": "2020-02-04T22:20:24.894927Z",
     "start_time": "2020-02-04T22:20:20.009074Z"
    },
    "scrolled": true
   },
   "outputs": [],
   "source": [
    "nlp = spacy.load('pt_core_news_sm')\n",
    "\n",
    "with open('data/stopwords-pt.txt') as f:\n",
    "    stopwords_pt = [line.rstrip() for line in f]\n",
    "    \n",
    "for w in stopwords_pt:\n",
    "    nlp.vocab[w].is_stop = True\n",
    "    \n",
    "# tokens_clean_lemma = [token.lemma_ for token in doc if not (token.is_stop or token.is_punct)]\n",
    "# def append_ngrams(tokens):\n",
    "#     bigrams = [' '.join(bigram) for bigram in list(ngrams(tokens, 2))]\n",
    "#     trigrams = [' '.join(trigram) for trigram in list(ngrams(tokens, 3))]\n",
    "#     return tokens + bigrams + trigrams"
   ]
  },
  {
   "cell_type": "code",
   "execution_count": 38,
   "metadata": {
    "ExecuteTime": {
     "end_time": "2020-02-04T22:20:32.473260Z",
     "start_time": "2020-02-04T22:20:32.468653Z"
    }
   },
   "outputs": [],
   "source": [
    "def news_sent_tokenizer(news):\n",
    "    doc = nlp(news)\n",
    "    sentences = [sent for sent in doc.sents]\n",
    "    news_sent_tokens = []\n",
    "    for sent in sentences:\n",
    "        sent_tokens = [token.lemma_ for token in sent if not (token.is_stop or token.is_punct)]\n",
    "        news_sent_tokens.append(sent_tokens)\n",
    "        \n",
    "    return news_sent_tokens"
   ]
  },
  {
   "cell_type": "code",
   "execution_count": 44,
   "metadata": {
    "ExecuteTime": {
     "end_time": "2020-02-04T22:25:43.244110Z",
     "start_time": "2020-02-04T22:25:43.240815Z"
    }
   },
   "outputs": [
    {
     "name": "stdout",
     "output_type": "stream",
     "text": [
      "Segundo dados preliminares de fechamento, o Ibovespa teve oscilação negativa de 0,04%, a 115.341,52​ pontos. O giro financeiro da sessão somou 22,6 bilhões de reais. Nas pontas, Gerdau (SA:GGBR4) ​ subiu 2,8%, enquanto Braskem (SA:BRKM5) perdeu 3%. Entre as ações mais importantes do índice, Itaú Unibanco avançou 1,15%, enquanto Bradesco teve ganho de 1,06%. ​ Banco do Brasil (SA:BBAS3) teve valorização de 0,69% e Santander Brasil evoluiu 0,65%. Vale (SA:VALE3) fechou em alta de 0,95% e Petrobras PN teve  teve ganho de 0,35%, enquanto Petrobras (SA:PETR4) ON subiu 1,55%.  Com o desempenho da sessão, o Ibovespa acumula baixa de 1,7% no ano. O índice está 9,2% acima da média dos últimos 200 dias de negócios. Nas últimas 52 semanas, o Ibovespa acumula 17,2% de ganho. ​​ Veja o fechamento de outros índices da B3 nesta quinta-feira: - IBrX 100:-0,11%, 48.735,45​ pontos. - IBrX 50:0,02%, 18.796,78 pontos. - IBrA:-0,18%, 4.587,15 pontos. - Índice Small Cap (SMLL):-1,18%, 2.904,09 pontos. - Índice MidLarge Cap (MLCX):-0,03%, 2.208,21 pontos. - Índice Dividendos (IDIV):-0,57%, 6.838,45 pontos. - Índice Financeiro (IFNC):0,63%, 12.902,00 pontos. - Índice de Consumo (ICON):-1,17%, 5.526,48 pontos. - Índice de Energia Elétrica (IEE):-1,02%, 79.513,09 pontos. - Índice de Materiais Básicos (IMAT):0,14​%, 3.673,74 pontos. - Índice do Setor Industrial (INDX):-1,00%, 21.763,59 pontos. - Índice Imobiliário (IMOB):-1,45%, 1.461,28 pontos. - Índice Utilidade Pública (UTIL):-0,98%, 8.977,38 pontos. - Índice de BDRs Não Patrocinados-GLOBAL (BDRX):0,38%, 7.983,81 pontos. - Índice de Sustentabilidade Empresarial (ISE):-0,78%, 4.257,28 pontos. - Índice de Ações com Governança Diferenciada (IGCX):-0,30%, 18.439,31 pontos. (Por Aluísio Alves)\n"
     ]
    }
   ],
   "source": [
    "print(full_df.loc[0, 'news'][5])"
   ]
  },
  {
   "cell_type": "code",
   "execution_count": 42,
   "metadata": {
    "ExecuteTime": {
     "end_time": "2020-02-04T22:23:09.808625Z",
     "start_time": "2020-02-04T22:23:09.737871Z"
    }
   },
   "outputs": [
    {
     "data": {
      "text/plain": [
       "[['dar',\n",
       "  'preliminar',\n",
       "  'fechamento',\n",
       "  'Ibovespa',\n",
       "  'oscilação',\n",
       "  'negativo',\n",
       "  '0,04',\n",
       "  '  ',\n",
       "  '115.341,52\\u200b'],\n",
       " ['girar', 'financeiro', 'sessão', 'somar', '22,6', 'bilião', 'real'],\n",
       " ['pontar',\n",
       "  'Gerdau',\n",
       "  'SA',\n",
       "  'GGBR4',\n",
       "  '\\u200b',\n",
       "  'subir',\n",
       "  '2,8',\n",
       "  'Braskem',\n",
       "  'SA',\n",
       "  'BRKM5',\n",
       "  'perder',\n",
       "  '3'],\n",
       " ['ações',\n",
       "  'importante',\n",
       "  'índice',\n",
       "  'Itaú',\n",
       "  'Unibanco',\n",
       "  'avançar',\n",
       "  '1,15',\n",
       "  '  ',\n",
       "  'Bradesco',\n",
       "  '  ',\n",
       "  'ganhar',\n",
       "  '1,06',\n",
       "  '  '],\n",
       " ['\\u200b',\n",
       "  'Banco',\n",
       "  'Brasil',\n",
       "  'SA',\n",
       "  'BBAS3',\n",
       "  '  ',\n",
       "  'valorização',\n",
       "  '0,69',\n",
       "  '  ',\n",
       "  'Santander',\n",
       "  'Brasil',\n",
       "  'evoluir',\n",
       "  '0,65'],\n",
       " ['Vale',\n",
       "  'SA',\n",
       "  'VALE3',\n",
       "  'fechar',\n",
       "  '  ',\n",
       "  'alto',\n",
       "  '0,95',\n",
       "  '  ',\n",
       "  'Petrobras',\n",
       "  'PN',\n",
       "  '  ',\n",
       "  'ganhar',\n",
       "  '0,35',\n",
       "  '  ',\n",
       "  'Petrobras',\n",
       "  'SA',\n",
       "  'PETR4'],\n",
       " ['ON', '  ', 'subir', '1,55', '\\xa0 '],\n",
       " ['desempenhar',\n",
       "  '  ',\n",
       "  'sessão',\n",
       "  '  ',\n",
       "  'Ibovespa',\n",
       "  'acumular',\n",
       "  '  ',\n",
       "  'baixo',\n",
       "  '1,7',\n",
       "  '  '],\n",
       " ['índice',\n",
       "  '  ',\n",
       "  '9,2',\n",
       "  'acima',\n",
       "  '  ',\n",
       "  'médio',\n",
       "  'último',\n",
       "  '200',\n",
       "  'dia',\n",
       "  'negócio'],\n",
       " ['último',\n",
       "  '52',\n",
       "  'semana',\n",
       "  'Ibovespa',\n",
       "  'acumular',\n",
       "  '  ',\n",
       "  '17,2',\n",
       "  'ganhar',\n",
       "  '  '],\n",
       " ['\\u200b\\u200b'],\n",
       " ['fechamento',\n",
       "  'índice',\n",
       "  'B3',\n",
       "  '  ',\n",
       "  'quinta-feira',\n",
       "  'IBrX',\n",
       "  '100:-0,11',\n",
       "  '48.735,45\\u200b'],\n",
       " ['IBrX', '50:0,02', '18.796,78'],\n",
       " ['IBrA:-0,18', '4.587,15'],\n",
       " ['Índice', 'Small', 'Cap', 'SMLL):-1,18', '2.904,09'],\n",
       " ['Índice', 'MidLarge', 'Cap', 'MLCX):-0,03', '2.208,21'],\n",
       " ['Índice', 'Dividendos', 'IDIV):-0,57', '6.838,45'],\n",
       " ['Índice', 'Financeiro', 'IFNC):0,63', '12.902,00'],\n",
       " ['Índice', 'Consumo', 'ICON):-1,17', '5.526,48'],\n",
       " ['Índice', 'Energia', 'Elétrica', 'IEE):-1,02', '79.513,09'],\n",
       " ['Índice', 'Materiais', 'Básicos', 'IMAT):0,14\\u200b%', '3.673,74'],\n",
       " ['Índice', 'Setor', 'Industrial', 'INDX):-1,00', '21.763,59'],\n",
       " ['Índice', 'Imobiliário', 'IMOB):-1,45', '1.461,28'],\n",
       " ['Índice', 'Utilidade', 'Pública', 'UTIL):-0,98', '8.977,38'],\n",
       " ['Índice', 'BDRs', 'Patrocinados-GLOBAL', 'BDRX):0,38', '7.983,81'],\n",
       " ['Índice', 'Sustentabilidade', 'Empresarial', 'ISE):-0,78', '4.257,28'],\n",
       " ['Índice', 'Ações', 'Governança', 'Diferenciada', 'IGCX):-0,30', '18.439,31'],\n",
       " ['Aluísio', 'Alves']]"
      ]
     },
     "execution_count": 42,
     "metadata": {},
     "output_type": "execute_result"
    }
   ],
   "source": [
    "news = full_df.loc[0, 'news'][5]\n",
    "news_sent_tokenizer(news)"
   ]
  },
  {
   "cell_type": "code",
   "execution_count": 61,
   "metadata": {
    "ExecuteTime": {
     "end_time": "2020-02-04T22:42:12.661581Z",
     "start_time": "2020-02-04T22:42:12.657913Z"
    },
    "scrolled": false
   },
   "outputs": [
    {
     "data": {
      "text/plain": [
       "<function spacy.lang.lex_attrs.is_punct(text)>"
      ]
     },
     "execution_count": 61,
     "metadata": {},
     "output_type": "execute_result"
    }
   ],
   "source": [
    "PortugueseDefaults.lex_attr_getters[IS_PUNCT]"
   ]
  }
 ],
 "metadata": {
  "kernelspec": {
   "display_name": "Python 3",
   "language": "python",
   "name": "python3"
  },
  "language_info": {
   "codemirror_mode": {
    "name": "ipython",
    "version": 3
   },
   "file_extension": ".py",
   "mimetype": "text/x-python",
   "name": "python",
   "nbconvert_exporter": "python",
   "pygments_lexer": "ipython3",
   "version": "3.7.5"
  },
  "latex_envs": {
   "LaTeX_envs_menu_present": true,
   "autoclose": false,
   "autocomplete": true,
   "bibliofile": "biblio.bib",
   "cite_by": "apalike",
   "current_citInitial": 1,
   "eqLabelWithNumbers": true,
   "eqNumInitial": 1,
   "hotkeys": {
    "equation": "Ctrl-E",
    "itemize": "Ctrl-I"
   },
   "labels_anchors": false,
   "latex_user_defs": false,
   "report_style_numbering": false,
   "user_envs_cfg": false
  },
  "toc": {
   "base_numbering": 1,
   "nav_menu": {},
   "number_sections": true,
   "sideBar": true,
   "skip_h1_title": false,
   "title_cell": "Table of Contents",
   "title_sidebar": "Contents",
   "toc_cell": false,
   "toc_position": {},
   "toc_section_display": true,
   "toc_window_display": false
  },
  "varInspector": {
   "cols": {
    "lenName": 16,
    "lenType": 16,
    "lenVar": 40
   },
   "kernels_config": {
    "python": {
     "delete_cmd_postfix": "",
     "delete_cmd_prefix": "del ",
     "library": "var_list.py",
     "varRefreshCmd": "print(var_dic_list())"
    },
    "r": {
     "delete_cmd_postfix": ") ",
     "delete_cmd_prefix": "rm(",
     "library": "var_list.r",
     "varRefreshCmd": "cat(var_dic_list()) "
    }
   },
   "types_to_exclude": [
    "module",
    "function",
    "builtin_function_or_method",
    "instance",
    "_Feature"
   ],
   "window_display": false
  }
 },
 "nbformat": 4,
 "nbformat_minor": 2
}
