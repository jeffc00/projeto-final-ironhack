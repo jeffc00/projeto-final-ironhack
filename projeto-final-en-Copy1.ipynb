{
 "cells": [
  {
   "cell_type": "code",
   "execution_count": 1,
   "metadata": {
    "ExecuteTime": {
     "end_time": "2020-02-06T17:27:46.437930Z",
     "start_time": "2020-02-06T17:27:39.042510Z"
    }
   },
   "outputs": [],
   "source": [
    "import os\n",
    "import gc\n",
    "import string\n",
    "from functools import partial\n",
    "import pandas as pd\n",
    "import numpy as np\n",
    "import matplotlib.pyplot as plt\n",
    "import seaborn as sns\n",
    "import scipy.stats as ss\n",
    "import re\n",
    "import requests\n",
    "from datetime import datetime as dt, timedelta, date, time\n",
    "import datetime\n",
    "from tqdm import tqdm\n",
    "from bs4 import BeautifulSoup\n",
    "import joblib\n",
    "import spacy\n",
    "from nltk.util import ngrams\n",
    "import multiprocessing\n",
    "from sklearn.base import TransformerMixin\n",
    "from sklearn.model_selection import TimeSeriesSplit, RandomizedSearchCV, train_test_split, cross_validate, cross_val_score, learning_curve\n",
    "from sklearn.feature_extraction.text import TfidfTransformer\n",
    "from sklearn.decomposition import TruncatedSVD\n",
    "from sklearn.linear_model import LogisticRegression\n",
    "from sklearn.svm import SVC\n",
    "from sklearn.ensemble import RandomForestClassifier, StackingClassifier\n",
    "from sklearn.neural_network import MLPClassifier\n",
    "from lightgbm import LGBMClassifier\n",
    "from xgboost import XGBClassifier\n",
    "from sklearn.pipeline import Pipeline\n",
    "from sklearn.metrics import precision_recall_curve, precision_score, plot_precision_recall_curve\n",
    "from sklearn.preprocessing import FunctionTransformer\n",
    "from sklearn.cluster import KMeans"
   ]
  },
  {
   "cell_type": "code",
   "execution_count": 2,
   "metadata": {
    "ExecuteTime": {
     "end_time": "2020-02-06T13:56:07.269961Z",
     "start_time": "2020-02-06T13:56:07.263001Z"
    }
   },
   "outputs": [],
   "source": [
    "def get_stock_data():\n",
    "    pass\n",
    "\n",
    "def update_stock_data():\n",
    "    pass"
   ]
  },
  {
   "cell_type": "code",
   "execution_count": 3,
   "metadata": {
    "ExecuteTime": {
     "end_time": "2020-02-06T13:56:07.291203Z",
     "start_time": "2020-02-06T13:56:07.273640Z"
    }
   },
   "outputs": [],
   "source": [
    "def load_stock_data(ticker='TSLA'):\n",
    "    '''Load csv file to a pandas dataframe.\n",
    "    \n",
    "    Args:\n",
    "        symbol: company's symbol\n",
    "        \n",
    "    Returns:\n",
    "        A pandas dataframe containing the stock's data.\n",
    "    '''\n",
    "    \n",
    "    df = pd.read_csv(f'data/{ticker}.csv')\n",
    "    df.columns = ['date', 'close', 'open', 'high', 'low', 'volume', 'pct_change']\n",
    "    \n",
    "    return df"
   ]
  },
  {
   "cell_type": "code",
   "execution_count": 4,
   "metadata": {
    "ExecuteTime": {
     "end_time": "2020-02-06T13:56:07.304107Z",
     "start_time": "2020-02-06T13:56:07.295102Z"
    },
    "scrolled": true
   },
   "outputs": [],
   "source": [
    "def clean_stock_data(df):\n",
    "    '''Clean dataframe: change variables to appropriate dtypes.\n",
    "    \n",
    "    Args:\n",
    "        df: pandas dataframe\n",
    "        \n",
    "    Returns:\n",
    "        A cleaned dataframe ready to be modeled.\n",
    "    '''\n",
    "    \n",
    "    df['date'] = pd.to_datetime(df['date'], format='%b %d, %Y')\n",
    "    \n",
    "    cols_num = ['close', 'open', 'high', 'low']\n",
    "    df[cols_num] = df[cols_num].astype(float)\n",
    "    \n",
    "    df['volume'] = df['volume'].str.replace('.', '').str.replace('M', '000000')\n",
    "    df['volume'] = df['volume'].str.replace('.', '').str.replace('K', '000')\n",
    "    df['volume'] = df['volume'].astype(int)\n",
    "    \n",
    "    df['pct_change'] = df['pct_change'].str.rstrip('%')\n",
    "    df['pct_change'] = df['pct_change'].astype(float) / 100\n",
    "    \n",
    "    return df"
   ]
  },
  {
   "cell_type": "code",
   "execution_count": 5,
   "metadata": {
    "ExecuteTime": {
     "end_time": "2020-02-06T13:56:07.318730Z",
     "start_time": "2020-02-06T13:56:07.307516Z"
    }
   },
   "outputs": [],
   "source": [
    "def scraper(url):\n",
    "    '''Scrape news data on stocks from a given url.\n",
    "    \n",
    "    Args:\n",
    "        url: a string containing the news' url\n",
    "        \n",
    "    Returns:\n",
    "        datetime: a datetime object containing date and time when news was released to the public\n",
    "        text: the contents of the news\n",
    "    '''\n",
    "    \n",
    "    page = requests.get(url, headers={'User-Agent': 'Chrome/79.0.3945.130'})\n",
    "    soup = BeautifulSoup(page.content, 'html.parser')\n",
    "    \n",
    "    content_section = soup.find('div', {'class': 'contentSectionDetails'})\n",
    "    datetime = dt.strptime(re.search(r'(\\w{3} \\d{2}, \\d{4} \\d{2}:\\d{2}\\w{2})',\n",
    "                                     content_section.find('span').text).group(),\n",
    "                           '%b %d, %Y %I:%M%p')\n",
    "    \n",
    "    text_section = soup.find('div', {'class': 'WYSIWYG articlePage'}).find_all('p')\n",
    "    text = ' '.join([text_section[i].text for i in range(1, len(text_section))])\n",
    "    \n",
    "    return datetime, text"
   ]
  },
  {
   "cell_type": "code",
   "execution_count": 6,
   "metadata": {
    "ExecuteTime": {
     "end_time": "2020-02-06T13:56:07.333545Z",
     "start_time": "2020-02-06T13:56:07.320399Z"
    }
   },
   "outputs": [],
   "source": [
    "def get_news_data(page):\n",
    "    '''Get news on stocks from the page in Investing.com website.\n",
    "    \n",
    "    Args:\n",
    "        page: the page from which the news will be extracted\n",
    "    \n",
    "    Returns:\n",
    "        A pandas dataframe for the page containing datetime, title and contents from the news.\n",
    "    '''\n",
    "    \n",
    "    url_investing = 'https://investing.com'\n",
    "    title_ls = []\n",
    "    dt_ls = []\n",
    "    text_ls = []\n",
    "    url = f'/equities/tesla-motors-news/{page}'\n",
    "    result = requests.get(url_investing + url,\n",
    "                          headers={'User-Agent': 'Chrome/79.0.3945.130'})\n",
    "    soup = BeautifulSoup(result.content, 'html.parser')\n",
    "\n",
    "    anchors_ls = [art.find('a') for art in soup.find_all('article')]\n",
    "    for a in anchors_ls:\n",
    "        if a['href'].startswith('/news'):\n",
    "            title_ls.append(a.find('img').get('alt'))\n",
    "            url_contents = scraper(url_investing + a['href'])\n",
    "            dt_ls.append(url_contents[0])\n",
    "            text_ls.append(url_contents[1])\n",
    "\n",
    "    news_data = {'datetime': dt_ls, 'title': title_ls, 'text': text_ls}\n",
    "    news_df = pd.DataFrame(news_data)\n",
    "    \n",
    "    joblib.dump(news_df, f'data/news tesla/news_df{page}.pkl')\n",
    "    \n",
    "    return news_df"
   ]
  },
  {
   "cell_type": "code",
   "execution_count": 7,
   "metadata": {
    "ExecuteTime": {
     "end_time": "2020-02-06T13:56:07.343968Z",
     "start_time": "2020-02-06T13:56:07.335312Z"
    }
   },
   "outputs": [],
   "source": [
    "def save_news_df(initial_pg, final_pg):\n",
    "    '''Parallelizes the extraction of news data using the get_news_data function.\n",
    "    \n",
    "    Args:\n",
    "        initial_pg: initial page\n",
    "        final_pg: final page (not inclusive)\n",
    "    \n",
    "    Returns:\n",
    "        A pandas dataframe containing all the news from 2016 until today.\n",
    "    '''\n",
    "    \n",
    "    pool = multiprocessing.Pool()\n",
    "    df_ls = pool.map(get_news_data, range(initial_pg, final_pg))\n",
    "    pool.terminate()\n",
    "    pool.join()\n",
    "    \n",
    "    news_df = (pd.concat(df_ls, axis=0)\n",
    "               .drop_duplicates()\n",
    "               .sort_values('datetime', ascending=False)\n",
    "               .reset_index(drop=True))\n",
    "    \n",
    "    joblib.dump(news_df, 'data/news_tesla_df.pkl')"
   ]
  },
  {
   "cell_type": "code",
   "execution_count": 8,
   "metadata": {
    "ExecuteTime": {
     "end_time": "2020-02-06T13:56:07.353834Z",
     "start_time": "2020-02-06T13:56:07.347502Z"
    }
   },
   "outputs": [],
   "source": [
    "def load_news_df():\n",
    "    news_df = pd.DataFrame(columns=['datetime', 'title', 'text'])\n",
    "    for i in range(7, 384):\n",
    "        news_df = pd.concat([news_df, joblib.load(f'data/news tesla/news_df{i}.pkl')])\n",
    "        \n",
    "    return news_df.drop_duplicates().sort_values('datetime', ascending=False).reset_index(drop=True)"
   ]
  },
  {
   "cell_type": "code",
   "execution_count": 9,
   "metadata": {
    "ExecuteTime": {
     "end_time": "2020-02-06T13:56:07.367232Z",
     "start_time": "2020-02-06T13:56:07.357777Z"
    }
   },
   "outputs": [],
   "source": [
    "def clean_news_df(df):\n",
    "    '''Clean and aggregate news by date. Given a date, only news realeased before market closure are aggregated.\n",
    "    \n",
    "    Args:\n",
    "        df: pandas dataframe containing all the news ordered by datetime\n",
    "        \n",
    "    Returns:\n",
    "        A pandas dataframe with all the news aggregated by date.\n",
    "    '''\n",
    "    \n",
    "    # we want to work with news starting in 2015\n",
    "    df = (df[(df['datetime'] <= dt(2020, 2, 3, 16)) & (df['datetime'] >= dt(2015, 1, 2))]\n",
    "          .reset_index(drop=True))\n",
    "    \n",
    "    start = date(2015, 1, 1)\n",
    "    end = date(2020, 2, 3)\n",
    "    date_span = [end - timedelta(days=d) for d in range(0, (end - start).days)]\n",
    "\n",
    "    date_ls = []\n",
    "    news_ls = []\n",
    "    for d in date_span:\n",
    "        date_ls.append(d)\n",
    "\n",
    "        window = ((df['datetime'] < dt.combine(d, time(16))) &\\\n",
    "                  (df['datetime'] >= dt.combine(d - timedelta(days=1), time(16))))\n",
    "        news_ls.append(list(df.loc[window, 'text'].values))\n",
    "\n",
    "    agg_news = {'date': date_ls, 'news': news_ls}\n",
    "    agg_news_df = pd.DataFrame(agg_news)\n",
    "    agg_news_df['date'] = pd.to_datetime(agg_news_df['date'], infer_datetime_format=True)\n",
    "    \n",
    "    return agg_news_df"
   ]
  },
  {
   "cell_type": "code",
   "execution_count": 10,
   "metadata": {
    "ExecuteTime": {
     "end_time": "2020-02-06T13:56:09.918715Z",
     "start_time": "2020-02-06T13:56:07.369169Z"
    }
   },
   "outputs": [],
   "source": [
    "tsla_df = clean_stock_data(load_stock_data())\n",
    "agg_news_df = clean_news_df(load_news_df())\n",
    "full_df = tsla_df.merge(agg_news_df, on='date').sort_values('date').reset_index(drop=True)"
   ]
  },
  {
   "cell_type": "code",
   "execution_count": 11,
   "metadata": {
    "ExecuteTime": {
     "end_time": "2020-02-06T13:56:09.924295Z",
     "start_time": "2020-02-06T13:56:09.920259Z"
    }
   },
   "outputs": [],
   "source": [
    "full_df['bullish'] = 0\n",
    "full_df['bullish'] = (full_df['close'] > full_df['open']).astype(int)"
   ]
  },
  {
   "cell_type": "code",
   "execution_count": 12,
   "metadata": {
    "ExecuteTime": {
     "end_time": "2020-02-06T13:56:09.944903Z",
     "start_time": "2020-02-06T13:56:09.926586Z"
    }
   },
   "outputs": [],
   "source": [
    "cols_to_drop = ['date', 'close', 'open', 'high', 'low', 'volume', 'pct_change', 'bullish']\n",
    "X = full_df.drop(cols_to_drop, axis=1)\n",
    "y = full_df['bullish']\n",
    "\n",
    "X_train, X_test, y_train, y_test = train_test_split(X, y, test_size=.2, shuffle=False)\n",
    "X_test.reset_index(drop=True, inplace=True)\n",
    "y_test.reset_index(drop=True, inplace=True)"
   ]
  },
  {
   "cell_type": "code",
   "execution_count": 13,
   "metadata": {
    "ExecuteTime": {
     "end_time": "2020-02-06T13:56:10.972542Z",
     "start_time": "2020-02-06T13:56:09.946461Z"
    },
    "scrolled": true
   },
   "outputs": [],
   "source": [
    "nlp = spacy.load('en_core_web_sm')"
   ]
  },
  {
   "cell_type": "code",
   "execution_count": 14,
   "metadata": {
    "ExecuteTime": {
     "end_time": "2020-02-06T13:56:10.977794Z",
     "start_time": "2020-02-06T13:56:10.974136Z"
    }
   },
   "outputs": [],
   "source": [
    "def append_ngrams(tokens_ls):\n",
    "    bigrams_ls = [' '.join(bigram) for bigram in list(ngrams(tokens_ls, 2))]\n",
    "    trigrams_ls = [' '.join(trigram) for trigram in list(ngrams(tokens_ls, 3))]\n",
    "    return tokens_ls + bigrams_ls + trigrams_ls"
   ]
  },
  {
   "cell_type": "code",
   "execution_count": 15,
   "metadata": {
    "ExecuteTime": {
     "end_time": "2020-02-06T13:56:10.996752Z",
     "start_time": "2020-02-06T13:56:10.979561Z"
    }
   },
   "outputs": [],
   "source": [
    "def clean_tokens(tokens_ls):\n",
    "    bad_token = [' ', '  ', '\\n', ' \\n', '  \\n']\n",
    "    return [token for token in tokens_ls if token not in bad_token]"
   ]
  },
  {
   "cell_type": "code",
   "execution_count": 16,
   "metadata": {
    "ExecuteTime": {
     "end_time": "2020-02-06T13:56:11.006274Z",
     "start_time": "2020-02-06T13:56:10.998244Z"
    }
   },
   "outputs": [],
   "source": [
    "def news_tokenizer(df):\n",
    "    tokens = []\n",
    "    for news_ls in tqdm(df['news']):\n",
    "        news_tokens = []\n",
    "        for news in news_ls:\n",
    "            doc = nlp(news)\n",
    "            for sent in doc.sents:\n",
    "                sent_tokens = [token.lemma_ for token in sent if not (token.is_stop or token.is_punct)]\n",
    "#                 sent_tokens_ext = append_ngrams(clean_tokens(sent_tokens))\n",
    "#                 news_tokens += sent_tokens_ext\n",
    "                sent_tokens = clean_tokens(sent_tokens)\n",
    "                news_tokens += sent_tokens\n",
    "        tokens.append(news_tokens)\n",
    "        \n",
    "    df['tokens'] = tokens\n",
    "    \n",
    "    return df"
   ]
  },
  {
   "cell_type": "code",
   "execution_count": 17,
   "metadata": {
    "ExecuteTime": {
     "end_time": "2020-02-06T13:56:11.015255Z",
     "start_time": "2020-02-06T13:56:11.008892Z"
    }
   },
   "outputs": [],
   "source": [
    "def count_words(df, w):\n",
    "    count = {w: []}\n",
    "    for i in range(len(df)):\n",
    "        count[w].append(df.loc[i, 'tokens'].count(w))\n",
    "    return count"
   ]
  },
  {
   "cell_type": "code",
   "execution_count": 18,
   "metadata": {
    "ExecuteTime": {
     "end_time": "2020-02-06T13:56:11.024451Z",
     "start_time": "2020-02-06T13:56:11.016852Z"
    }
   },
   "outputs": [],
   "source": [
    "def get_bow(df):\n",
    "    bow = set()\n",
    "    for tokens_ls in df['tokens']:\n",
    "        bow = bow.union(set(tokens_ls))\n",
    "    return list(bow)"
   ]
  },
  {
   "cell_type": "code",
   "execution_count": 19,
   "metadata": {
    "ExecuteTime": {
     "end_time": "2020-02-06T13:57:49.748740Z",
     "start_time": "2020-02-06T13:56:11.026257Z"
    }
   },
   "outputs": [
    {
     "name": "stderr",
     "output_type": "stream",
     "text": [
      "100%|██████████| 1024/1024 [01:38<00:00, 10.42it/s]\n",
      "/home/jeffc/anaconda3/lib/python3.7/site-packages/ipykernel_launcher.py:15: SettingWithCopyWarning: \n",
      "A value is trying to be set on a copy of a slice from a DataFrame.\n",
      "Try using .loc[row_indexer,col_indexer] = value instead\n",
      "\n",
      "See the caveats in the documentation: http://pandas.pydata.org/pandas-docs/stable/indexing.html#indexing-view-versus-copy\n",
      "  from ipykernel import kernelapp as app\n"
     ]
    }
   ],
   "source": [
    "bow = get_bow(news_tokenizer(X_train))"
   ]
  },
  {
   "cell_type": "code",
   "execution_count": 20,
   "metadata": {
    "ExecuteTime": {
     "end_time": "2020-02-06T13:57:49.754372Z",
     "start_time": "2020-02-06T13:57:49.750269Z"
    }
   },
   "outputs": [],
   "source": [
    "def count_matrix(df):\n",
    "    pool = multiprocessing.Pool()\n",
    "    func = partial(count_words, df)\n",
    "    word_counts = pool.map(func, bow)\n",
    "    pool.terminate()\n",
    "    pool.join()\n",
    "    \n",
    "    count_dict = {list(wc.keys())[0]:  pd.arrays.SparseArray(list(wc.values())[0]) for wc in word_counts}\n",
    "    \n",
    "    return pd.DataFrame(count_dict)"
   ]
  },
  {
   "cell_type": "code",
   "execution_count": 22,
   "metadata": {
    "ExecuteTime": {
     "end_time": "2020-02-06T14:14:10.140644Z",
     "start_time": "2020-02-06T14:08:18.954263Z"
    },
    "scrolled": true
   },
   "outputs": [
    {
     "name": "stderr",
     "output_type": "stream",
     "text": [
      "100%|██████████| 1024/1024 [01:36<00:00, 10.59it/s]\n",
      "/home/jeffc/anaconda3/lib/python3.7/site-packages/ipykernel_launcher.py:15: SettingWithCopyWarning: \n",
      "A value is trying to be set on a copy of a slice from a DataFrame.\n",
      "Try using .loc[row_indexer,col_indexer] = value instead\n",
      "\n",
      "See the caveats in the documentation: http://pandas.pydata.org/pandas-docs/stable/indexing.html#indexing-view-versus-copy\n",
      "  from ipykernel import kernelapp as app\n",
      "100%|██████████| 257/257 [00:43<00:00,  5.96it/s]\n",
      "/home/jeffc/anaconda3/lib/python3.7/site-packages/ipykernel_launcher.py:15: SettingWithCopyWarning: \n",
      "A value is trying to be set on a copy of a slice from a DataFrame.\n",
      "Try using .loc[row_indexer,col_indexer] = value instead\n",
      "\n",
      "See the caveats in the documentation: http://pandas.pydata.org/pandas-docs/stable/indexing.html#indexing-view-versus-copy\n",
      "  from ipykernel import kernelapp as app\n"
     ]
    }
   ],
   "source": [
    "tokens_transformer = FunctionTransformer(news_tokenizer)\n",
    "cmat_transformer = FunctionTransformer(count_matrix)\n",
    "\n",
    "sub_pipe = Pipeline([('tokenizer', tokens_transformer),\n",
    "                     ('count_mat', cmat_transformer),\n",
    "                     ('tfidf', TfidfTransformer()),\n",
    "                     ('tsvd', TruncatedSVD(n_components=508))])\n",
    "\n",
    "X_train_transf = sub_pipe.fit_transform(X_train)\n",
    "X_test_transf = sub_pipe.transform(X_test)"
   ]
  },
  {
   "cell_type": "code",
   "execution_count": 25,
   "metadata": {
    "ExecuteTime": {
     "end_time": "2020-02-06T14:18:59.377012Z",
     "start_time": "2020-02-06T14:18:59.228379Z"
    },
    "scrolled": true
   },
   "outputs": [
    {
     "name": "stdout",
     "output_type": "stream",
     "text": [
      "explained variance ratio using 508 components: 90.2144%\n"
     ]
    },
    {
     "data": {
      "image/png": "[encoded data removed]",
      "text/plain": [
       "<Figure size 432x288 with 1 Axes>"
      ]
     },
     "metadata": {
      "needs_background": "light"
     },
     "output_type": "display_data"
    }
   ],
   "source": [
    "idx = range(508)\n",
    "var_exp = np.cumsum(sub_pipe.named_steps['tsvd'].explained_variance_ratio_)\n",
    "print('explained variance ratio using 508 components: {:.3f}%'.format(100 * var_exp[-1]))\n",
    "plt.plot(idx, var_exp);"
   ]
  },
  {
   "cell_type": "code",
   "execution_count": 26,
   "metadata": {
    "ExecuteTime": {
     "end_time": "2020-02-06T14:19:25.911574Z",
     "start_time": "2020-02-06T14:19:25.908886Z"
    }
   },
   "outputs": [],
   "source": [
    "tscv = TimeSeriesSplit(n_splits=5)"
   ]
  },
  {
   "cell_type": "code",
   "execution_count": 27,
   "metadata": {
    "ExecuteTime": {
     "end_time": "2020-02-06T14:19:27.769198Z",
     "start_time": "2020-02-06T14:19:27.765087Z"
    }
   },
   "outputs": [],
   "source": [
    "logr_clf = LogisticRegression(random_state=42, n_jobs=-1)\n",
    "\n",
    "logr_params = {'penalty': ['l1', 'l2', 'elasticnet'],\n",
    "               'C': ss.uniform(0, 1),\n",
    "               'l1_ratio': ss.uniform(0, 1)}"
   ]
  },
  {
   "cell_type": "code",
   "execution_count": 29,
   "metadata": {
    "ExecuteTime": {
     "end_time": "2020-02-06T14:19:35.966775Z",
     "start_time": "2020-02-06T14:19:35.962224Z"
    }
   },
   "outputs": [],
   "source": [
    "svm_clf = SVC(probability=True, random_state=42)\n",
    "\n",
    "svm_params = {'C': ss.uniform(0, 1),\n",
    "              'kernel': ['linear', 'poly', 'rbf', 'sigmoid'],\n",
    "              'degree': [1, 2],\n",
    "              'coef0': ss.uniform(-10, 10)}"
   ]
  },
  {
   "cell_type": "code",
   "execution_count": 30,
   "metadata": {
    "ExecuteTime": {
     "end_time": "2020-02-06T14:19:35.986717Z",
     "start_time": "2020-02-06T14:19:35.969126Z"
    }
   },
   "outputs": [],
   "source": [
    "lgbm_clf = LGBMClassifier(max_depth=1, random_state=42, n_jobs=-1)\n",
    "\n",
    "lgbm_params = {'boosting_type': ['gbdt', 'dart', 'goss', 'rf'],\n",
    "               'learning_rate': ss.uniform(0, 1),\n",
    "               'n_estimators': range(1,500),\n",
    "               'subsample': ss.uniform(0.001, 1),\n",
    "               'subsample_freq': range(1,101),\n",
    "               'colsample_bytree': ss.uniform(0.001, 1),\n",
    "               'reg_alpha': ss.uniform(0, 1),\n",
    "               'reg_lambda': ss.uniform(0, 1)}"
   ]
  },
  {
   "cell_type": "code",
   "execution_count": 31,
   "metadata": {
    "ExecuteTime": {
     "end_time": "2020-02-06T14:19:36.001236Z",
     "start_time": "2020-02-06T14:19:35.989014Z"
    }
   },
   "outputs": [],
   "source": [
    "xgb_clf = XGBClassifier(max_depth=1, random_state=42, n_jobs=-1)\n",
    "\n",
    "xgb_params = {'learning_rate': ss.uniform(0, 1),\n",
    "              'boster': ['gbtree', 'gblinear', 'dart'],\n",
    "              'subsample': ss.uniform(0.001, 1),\n",
    "              'colsample_bytree': ss.uniform(0.001, 1),\n",
    "              'colsample_bylevel': ss.uniform(0.001, 1),\n",
    "              'colsample_bynode': ss.uniform(0.001, 1),\n",
    "              'reg_alpha': ss.uniform(0, 1),\n",
    "              'reg_lambda': ss.uniform(0, 1),\n",
    "              'num_parallel_tree': range(1,500)}"
   ]
  },
  {
   "cell_type": "code",
   "execution_count": 32,
   "metadata": {
    "ExecuteTime": {
     "end_time": "2020-02-06T14:19:36.011183Z",
     "start_time": "2020-02-06T14:19:36.003432Z"
    }
   },
   "outputs": [],
   "source": [
    "models = {'logr': [logr_clf, logr_params],\n",
    "          'svm': [svm_clf, svm_params],\n",
    "          'lgbm': [lgbm_clf, lgbm_params],\n",
    "          'xgb': [xgb_clf, xgb_params]}"
   ]
  },
  {
   "cell_type": "code",
   "execution_count": 33,
   "metadata": {
    "ExecuteTime": {
     "end_time": "2020-02-06T17:06:47.529120Z",
     "start_time": "2020-02-06T14:19:36.013041Z"
    }
   },
   "outputs": [
    {
     "name": "stderr",
     "output_type": "stream",
     "text": [
      "\r",
      "  0%|          | 0/4 [00:00<?, ?it/s]"
     ]
    },
    {
     "name": "stdout",
     "output_type": "stream",
     "text": [
      "Fitting 5 folds for each of 500 candidates, totalling 2500 fits\n"
     ]
    },
    {
     "name": "stderr",
     "output_type": "stream",
     "text": [
      "[Parallel(n_jobs=-1)]: Using backend LokyBackend with 8 concurrent workers.\n",
      "[Parallel(n_jobs=-1)]: Done  34 tasks      | elapsed:   21.6s\n",
      "[Parallel(n_jobs=-1)]: Done 1680 tasks      | elapsed:   30.6s\n",
      "[Parallel(n_jobs=-1)]: Done 2500 out of 2500 | elapsed:   34.3s finished\n",
      "/home/jeffc/anaconda3/lib/python3.7/site-packages/sklearn/linear_model/_logistic.py:1499: UserWarning: l1_ratio parameter is only used when penalty is 'elasticnet'. Got (penalty=l2)\n",
      "  \"(penalty={})\".format(self.penalty))\n",
      " 25%|██▌       | 1/4 [00:36<01:49, 36.40s/it][Parallel(n_jobs=-1)]: Using backend LokyBackend with 8 concurrent workers.\n"
     ]
    },
    {
     "name": "stdout",
     "output_type": "stream",
     "text": [
      "Fitting 5 folds for each of 500 candidates, totalling 2500 fits\n"
     ]
    },
    {
     "name": "stderr",
     "output_type": "stream",
     "text": [
      "[Parallel(n_jobs=-1)]: Done  47 tasks      | elapsed:   13.8s\n",
      "[Parallel(n_jobs=-1)]: Done 200 tasks      | elapsed:   59.5s\n",
      "[Parallel(n_jobs=-1)]: Done 450 tasks      | elapsed:  2.2min\n",
      "[Parallel(n_jobs=-1)]: Done 800 tasks      | elapsed:  3.9min\n",
      "[Parallel(n_jobs=-1)]: Done 1250 tasks      | elapsed:  5.9min\n",
      "[Parallel(n_jobs=-1)]: Done 1800 tasks      | elapsed:  8.4min\n",
      "[Parallel(n_jobs=-1)]: Done 2450 tasks      | elapsed: 11.5min\n",
      "[Parallel(n_jobs=-1)]: Done 2500 out of 2500 | elapsed: 11.7min finished\n",
      " 50%|█████     | 2/4 [12:23<07:55, 237.59s/it][Parallel(n_jobs=-1)]: Using backend LokyBackend with 8 concurrent workers.\n"
     ]
    },
    {
     "name": "stdout",
     "output_type": "stream",
     "text": [
      "Fitting 5 folds for each of 500 candidates, totalling 2500 fits\n"
     ]
    },
    {
     "name": "stderr",
     "output_type": "stream",
     "text": [
      "[Parallel(n_jobs=-1)]: Done  34 tasks      | elapsed:    1.6s\n",
      "[Parallel(n_jobs=-1)]: Done 184 tasks      | elapsed:   15.9s\n",
      "[Parallel(n_jobs=-1)]: Done 434 tasks      | elapsed:   35.4s\n",
      "[Parallel(n_jobs=-1)]: Done 784 tasks      | elapsed:  1.1min\n",
      "[Parallel(n_jobs=-1)]: Done 1234 tasks      | elapsed:  1.9min\n",
      "[Parallel(n_jobs=-1)]: Done 1784 tasks      | elapsed:  2.9min\n",
      "[Parallel(n_jobs=-1)]: Done 2434 tasks      | elapsed:  3.8min\n",
      "[Parallel(n_jobs=-1)]: Done 2500 out of 2500 | elapsed:  4.0min finished\n",
      " 75%|███████▌  | 3/4 [16:20<03:57, 237.52s/it][Parallel(n_jobs=-1)]: Using backend LokyBackend with 8 concurrent workers.\n"
     ]
    },
    {
     "name": "stdout",
     "output_type": "stream",
     "text": [
      "Fitting 5 folds for each of 500 candidates, totalling 2500 fits\n"
     ]
    },
    {
     "name": "stderr",
     "output_type": "stream",
     "text": [
      "[Parallel(n_jobs=-1)]: Done  34 tasks      | elapsed:  2.5min\n",
      "[Parallel(n_jobs=-1)]: Done 184 tasks      | elapsed: 11.1min\n",
      "[Parallel(n_jobs=-1)]: Done 434 tasks      | elapsed: 26.9min\n",
      "[Parallel(n_jobs=-1)]: Done 784 tasks      | elapsed: 46.6min\n",
      "[Parallel(n_jobs=-1)]: Done 1234 tasks      | elapsed: 70.9min\n",
      "[Parallel(n_jobs=-1)]: Done 1784 tasks      | elapsed: 112.5min\n",
      "[Parallel(n_jobs=-1)]: Done 2434 tasks      | elapsed: 145.0min\n",
      "[Parallel(n_jobs=-1)]: Done 2500 out of 2500 | elapsed: 150.7min finished\n",
      "100%|██████████| 4/4 [2:47:11<00:00, 2507.88s/it]\n"
     ]
    }
   ],
   "source": [
    "best_estimators = {}\n",
    "for m in tqdm(models.keys()):\n",
    "    rscv = RandomizedSearchCV(models[m][0],\n",
    "                              models[m][1],\n",
    "                              n_iter=500,\n",
    "                              scoring='precision',\n",
    "                              n_jobs=-1,\n",
    "                              cv=tscv,\n",
    "                              verbose=True,\n",
    "                              random_state=42)\n",
    "\n",
    "    rscv.fit(X_train_transf, y_train)\n",
    "    best_estimators[m] = rscv.best_estimator_"
   ]
  },
  {
   "cell_type": "code",
   "execution_count": 34,
   "metadata": {
    "ExecuteTime": {
     "end_time": "2020-02-06T17:07:29.142471Z",
     "start_time": "2020-02-06T17:06:47.532265Z"
    }
   },
   "outputs": [
    {
     "name": "stderr",
     "output_type": "stream",
     "text": [
      "/home/jeffc/anaconda3/lib/python3.7/site-packages/sklearn/linear_model/_logistic.py:1499: UserWarning: l1_ratio parameter is only used when penalty is 'elasticnet'. Got (penalty=l2)\n",
      "  \"(penalty={})\".format(self.penalty))\n",
      "/home/jeffc/anaconda3/lib/python3.7/site-packages/sklearn/linear_model/_logistic.py:1499: UserWarning: l1_ratio parameter is only used when penalty is 'elasticnet'. Got (penalty=l2)\n",
      "  \"(penalty={})\".format(self.penalty))\n",
      "/home/jeffc/anaconda3/lib/python3.7/site-packages/sklearn/linear_model/_logistic.py:1499: UserWarning: l1_ratio parameter is only used when penalty is 'elasticnet'. Got (penalty=l2)\n",
      "  \"(penalty={})\".format(self.penalty))\n",
      "/home/jeffc/anaconda3/lib/python3.7/site-packages/sklearn/linear_model/_logistic.py:1499: UserWarning: l1_ratio parameter is only used when penalty is 'elasticnet'. Got (penalty=l2)\n",
      "  \"(penalty={})\".format(self.penalty))\n",
      "/home/jeffc/anaconda3/lib/python3.7/site-packages/sklearn/linear_model/_logistic.py:1499: UserWarning: l1_ratio parameter is only used when penalty is 'elasticnet'. Got (penalty=l2)\n",
      "  \"(penalty={})\".format(self.penalty))\n"
     ]
    }
   ],
   "source": [
    "precision_scores = {}\n",
    "precision_scores['train precision'] = []\n",
    "precision_scores['val precision'] = []\n",
    "precision_scores['test precision'] = []\n",
    "\n",
    "for m in best_estimators.keys(): \n",
    "    best = best_estimators[m]\n",
    "    results = cross_validate(best,\n",
    "                             X_train_transf,\n",
    "                             y_train,\n",
    "                             cv=tscv,\n",
    "                             scoring='precision',\n",
    "                             return_train_score=True)\n",
    "\n",
    "    train_score = results['train_score'].mean()\n",
    "    val_score = results['test_score'].mean()\n",
    "    test_score = cross_val_score(best,\n",
    "                                 X_test_transf,\n",
    "                                 y_test,\n",
    "                                 cv=tscv,\n",
    "                                 scoring='precision',\n",
    "                                 n_jobs=-1).mean()\n",
    "\n",
    "    precision_scores['train precision'].append(round(100 * train_score, 4))\n",
    "    precision_scores['val precision'].append(round(100 * val_score, 4))\n",
    "    precision_scores['test precision'].append(round(100 * test_score, 4))"
   ]
  },
  {
   "cell_type": "code",
   "execution_count": 35,
   "metadata": {
    "ExecuteTime": {
     "end_time": "2020-02-06T17:07:29.173883Z",
     "start_time": "2020-02-06T17:07:29.144160Z"
    },
    "scrolled": false
   },
   "outputs": [
    {
     "data": {
      "text/html": [
       "<div>\n",
       "<style scoped>\n",
       "    .dataframe tbody tr th:only-of-type {\n",
       "        vertical-align: middle;\n",
       "    }\n",
       "\n",
       "    .dataframe tbody tr th {\n",
       "        vertical-align: top;\n",
       "    }\n",
       "\n",
       "    .dataframe thead th {\n",
       "        text-align: right;\n",
       "    }\n",
       "</style>\n",
       "<table border=\"1\" class=\"dataframe\">\n",
       "  <thead>\n",
       "    <tr style=\"text-align: right;\">\n",
       "      <th></th>\n",
       "      <th>train precision</th>\n",
       "      <th>val precision</th>\n",
       "      <th>test precision</th>\n",
       "    </tr>\n",
       "  </thead>\n",
       "  <tbody>\n",
       "    <tr>\n",
       "      <th>logr</th>\n",
       "      <td>68.4679</td>\n",
       "      <td>59.1997</td>\n",
       "      <td>53.5693</td>\n",
       "    </tr>\n",
       "    <tr>\n",
       "      <th>svm</th>\n",
       "      <td>65.7861</td>\n",
       "      <td>63.7884</td>\n",
       "      <td>59.0849</td>\n",
       "    </tr>\n",
       "    <tr>\n",
       "      <th>lgbm</th>\n",
       "      <td>68.7192</td>\n",
       "      <td>58.3176</td>\n",
       "      <td>43.6948</td>\n",
       "    </tr>\n",
       "    <tr>\n",
       "      <th>xgb</th>\n",
       "      <td>72.6617</td>\n",
       "      <td>64.4202</td>\n",
       "      <td>54.6662</td>\n",
       "    </tr>\n",
       "  </tbody>\n",
       "</table>\n",
       "</div>"
      ],
      "text/plain": [
       "      train precision  val precision  test precision\n",
       "logr          68.4679        59.1997         53.5693\n",
       "svm           65.7861        63.7884         59.0849\n",
       "lgbm          68.7192        58.3176         43.6948\n",
       "xgb           72.6617        64.4202         54.6662"
      ]
     },
     "execution_count": 35,
     "metadata": {},
     "output_type": "execute_result"
    }
   ],
   "source": [
    "precision_scores_df = pd.DataFrame(precision_scores, index=list(best_estimators.keys()))\n",
    "precision_scores_df"
   ]
  },
  {
   "cell_type": "code",
   "execution_count": 36,
   "metadata": {
    "ExecuteTime": {
     "end_time": "2020-02-06T17:08:00.758106Z",
     "start_time": "2020-02-06T17:07:29.178871Z"
    }
   },
   "outputs": [
    {
     "data": {
      "image/png": "[encoded data removed]",
      "text/plain": [
       "<Figure size 720x720 with 4 Axes>"
      ]
     },
     "metadata": {
      "needs_background": "light"
     },
     "output_type": "display_data"
    }
   ],
   "source": [
    "X_transf = np.concatenate((X_train_transf, X_test_transf), axis=0)\n",
    "y = y_train.append(y_test).reset_index(drop=True)\n",
    "\n",
    "fig, ax = plt.subplots(2, 2, figsize=(10,10))\n",
    "axes = [ax[0,0], ax[0,1], ax[1,0], ax[1,1]]\n",
    "\n",
    "for i, m in enumerate(best_estimators.keys()):\n",
    "    train_sizes, train_scores, test_scores = learning_curve(best_estimators[m],\n",
    "                                                            X_transf,\n",
    "                                                            y,\n",
    "                                                            train_sizes=np.linspace(0.1, 0.9, 9),\n",
    "                                                            cv=tscv,\n",
    "                                                            scoring='precision',\n",
    "                                                            n_jobs=-1)\n",
    "\n",
    "    sns.lineplot(train_sizes, train_scores.mean(axis=1), markers=True, ax=axes[i]).set_title(m)\n",
    "    sns.lineplot(train_sizes, test_scores.mean(axis=1), markers=True, ax=axes[i])\n",
    "    axes[i].legend(['train', 'test']);"
   ]
  },
  {
   "cell_type": "code",
   "execution_count": 47,
   "metadata": {
    "ExecuteTime": {
     "end_time": "2020-02-06T17:23:11.947514Z",
     "start_time": "2020-02-06T17:23:10.632988Z"
    },
    "scrolled": true
   },
   "outputs": [
    {
     "data": {
      "image/png": "[encoded data removed]",
      "text/plain": [
       "<Figure size 576x576 with 1 Axes>"
      ]
     },
     "metadata": {
      "needs_background": "light"
     },
     "output_type": "display_data"
    }
   ],
   "source": [
    "fig, ax = plt.subplots(figsize=(8,8))\n",
    "for m in best_estimators.keys():\n",
    "    plot_precision_recall_curve(best_estimators[m], X_transf, y, name=m, ax=ax)\n",
    "    plt.legend(loc='upper right')"
   ]
  },
  {
   "cell_type": "code",
   "execution_count": 2,
   "metadata": {
    "ExecuteTime": {
     "end_time": "2020-02-06T17:30:13.396892Z",
     "start_time": "2020-02-06T17:30:13.134362Z"
    }
   },
   "outputs": [
    {
     "ename": "NameError",
     "evalue": "name 'tokens_transformer' is not defined",
     "output_type": "error",
     "traceback": [
      "\u001b[0;31m---------------------------------------------------------------------------\u001b[0m",
      "\u001b[0;31mNameError\u001b[0m                                 Traceback (most recent call last)",
      "\u001b[0;32m<ipython-input-2-cc18f1f34c36>\u001b[0m in \u001b[0;36m<module>\u001b[0;34m\u001b[0m\n\u001b[0;32m----> 1\u001b[0;31m sub_pipe2 = Pipeline([('tokenizer', tokens_transformer),\n\u001b[0m\u001b[1;32m      2\u001b[0m                       \u001b[0;34m(\u001b[0m\u001b[0;34m'count_mat'\u001b[0m\u001b[0;34m,\u001b[0m \u001b[0mcmat_transformer\u001b[0m\u001b[0;34m)\u001b[0m\u001b[0;34m,\u001b[0m\u001b[0;34m\u001b[0m\u001b[0;34m\u001b[0m\u001b[0m\n\u001b[1;32m      3\u001b[0m                       \u001b[0;34m(\u001b[0m\u001b[0;34m'tfidf'\u001b[0m\u001b[0;34m,\u001b[0m \u001b[0mTfidfTransformer\u001b[0m\u001b[0;34m(\u001b[0m\u001b[0;34m)\u001b[0m\u001b[0;34m)\u001b[0m\u001b[0;34m,\u001b[0m\u001b[0;34m\u001b[0m\u001b[0;34m\u001b[0m\u001b[0m\n\u001b[1;32m      4\u001b[0m                       ('tsvd', TruncatedSVD())])\n\u001b[1;32m      5\u001b[0m \u001b[0;34m\u001b[0m\u001b[0m\n",
      "\u001b[0;31mNameError\u001b[0m: name 'tokens_transformer' is not defined"
     ]
    }
   ],
   "source": [
    "sub_pipe2 = Pipeline([('tokenizer', tokens_transformer),\n",
    "                      ('count_mat', cmat_transformer),\n",
    "                      ('tfidf', TfidfTransformer()),\n",
    "                      ('tsvd', TruncatedSVD())])\n",
    "\n",
    "X_transf = sub_pipe.fit_transform(X)"
   ]
  }
 ],
 "metadata": {
  "kernelspec": {
   "display_name": "Python 3",
   "language": "python",
   "name": "python3"
  },
  "language_info": {
   "codemirror_mode": {
    "name": "ipython",
    "version": 3
   },
   "file_extension": ".py",
   "mimetype": "text/x-python",
   "name": "python",
   "nbconvert_exporter": "python",
   "pygments_lexer": "ipython3",
   "version": "3.7.5"
  },
  "latex_envs": {
   "LaTeX_envs_menu_present": true,
   "autoclose": false,
   "autocomplete": true,
   "bibliofile": "biblio.bib",
   "cite_by": "apalike",
   "current_citInitial": 1,
   "eqLabelWithNumbers": true,
   "eqNumInitial": 1,
   "hotkeys": {
    "equation": "Ctrl-E",
    "itemize": "Ctrl-I"
   },
   "labels_anchors": false,
   "latex_user_defs": false,
   "report_style_numbering": false,
   "user_envs_cfg": false
  },
  "toc": {
   "base_numbering": 1,
   "nav_menu": {},
   "number_sections": true,
   "sideBar": true,
   "skip_h1_title": false,
   "title_cell": "Table of Contents",
   "title_sidebar": "Contents",
   "toc_cell": false,
   "toc_position": {},
   "toc_section_display": true,
   "toc_window_display": false
  },
  "varInspector": {
   "cols": {
    "lenName": 16,
    "lenType": 16,
    "lenVar": 40
   },
   "kernels_config": {
    "python": {
     "delete_cmd_postfix": "",
     "delete_cmd_prefix": "del ",
     "library": "var_list.py",
     "varRefreshCmd": "print(var_dic_list())"
    },
    "r": {
     "delete_cmd_postfix": ") ",
     "delete_cmd_prefix": "rm(",
     "library": "var_list.r",
     "varRefreshCmd": "cat(var_dic_list()) "
    }
   },
   "types_to_exclude": [
    "module",
    "function",
    "builtin_function_or_method",
    "instance",
    "_Feature"
   ],
   "window_display": false
  }
 },
 "nbformat": 4,
 "nbformat_minor": 2
}
