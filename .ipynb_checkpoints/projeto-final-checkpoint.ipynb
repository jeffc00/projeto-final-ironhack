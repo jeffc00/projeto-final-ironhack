{
 "cells": [
  {
   "cell_type": "code",
   "execution_count": 10,
   "metadata": {
    "ExecuteTime": {
     "end_time": "2020-02-03T13:00:04.781428Z",
     "start_time": "2020-02-03T13:00:04.770444Z"
    }
   },
   "outputs": [],
   "source": [
    "import pandas as pd\n",
    "import numpy as np\n",
    "import matplotlib.pyplot as plt\n",
    "import seaborn as sns\n",
    "import plotly.graph_objects as go\n",
    "import requests\n",
    "import re\n",
    "import os\n",
    "import json\n",
    "import time"
   ]
  },
  {
   "cell_type": "code",
   "execution_count": 2,
   "metadata": {
    "ExecuteTime": {
     "end_time": "2020-02-03T12:59:29.958855Z",
     "start_time": "2020-02-03T12:59:29.956177Z"
    }
   },
   "outputs": [],
   "source": [
    "apikey = 'Q3QSDCKLVDZPE32H'\n",
    "url = 'https://www.alphavantage.co/query?'"
   ]
  },
  {
   "cell_type": "code",
   "execution_count": 3,
   "metadata": {
    "ExecuteTime": {
     "end_time": "2020-02-03T12:59:29.978038Z",
     "start_time": "2020-02-03T12:59:29.961515Z"
    }
   },
   "outputs": [],
   "source": [
    "def get_stock_data(symbol='VALE3.SA'):\n",
    "    '''Retrieve the stock's daily data using the AlphaVantage API and save results in a csv file.\n",
    "    \n",
    "    Args:\n",
    "        symbol: company's symbol\n",
    "        \n",
    "    Returns:\n",
    "        A pandas dataframe containing open, high, low and close prices, along with volume.\n",
    "    '''\n",
    "    \n",
    "    function = 'TIME_SERIES_DAILY'\n",
    "    outputsize = 'full'\n",
    "\n",
    "    response = requests.get(url + '&'.join([f'function={function}',\n",
    "                                            f'symbol={symbol}',\n",
    "                                            f'outputsize={outputsize}',\n",
    "                                            f'apikey={apikey}']))\n",
    "    result = response.json()['Time Series (Daily)']\n",
    "    df = pd.DataFrame(result).T\n",
    "    \n",
    "    df.to_csv(f'data/{symbol}.csv')\n",
    "    \n",
    "    return df"
   ]
  },
  {
   "cell_type": "code",
   "execution_count": 4,
   "metadata": {
    "ExecuteTime": {
     "end_time": "2020-02-03T12:59:34.174427Z",
     "start_time": "2020-02-03T12:59:29.980483Z"
    }
   },
   "outputs": [],
   "source": [
    "# df_stock = get_stock_data()"
   ]
  },
  {
   "cell_type": "code",
   "execution_count": null,
   "metadata": {},
   "outputs": [],
   "source": [
    "def load_stock_data(symbol='VALE3.SA'):\n",
    "    "
   ]
  },
  {
   "cell_type": "code",
   "execution_count": 5,
   "metadata": {
    "ExecuteTime": {
     "end_time": "2020-02-03T12:59:34.189108Z",
     "start_time": "2020-02-03T12:59:34.176045Z"
    }
   },
   "outputs": [
    {
     "name": "stdout",
     "output_type": "stream",
     "text": [
      "<class 'pandas.core.frame.DataFrame'>\n",
      "Index: 5001 entries, 2020-01-31 to 2000-02-03\n",
      "Data columns (total 5 columns):\n",
      "1. open      5001 non-null object\n",
      "2. high      5001 non-null object\n",
      "3. low       5001 non-null object\n",
      "4. close     5001 non-null object\n",
      "5. volume    5001 non-null object\n",
      "dtypes: object(5)\n",
      "memory usage: 234.4+ KB\n"
     ]
    }
   ],
   "source": [
    "# df_stock.info()"
   ]
  },
  {
   "cell_type": "code",
   "execution_count": 6,
   "metadata": {
    "ExecuteTime": {
     "end_time": "2020-02-03T12:59:34.203601Z",
     "start_time": "2020-02-03T12:59:34.190845Z"
    }
   },
   "outputs": [],
   "source": [
    "def clean_df(df):\n",
    "    df.reset_index(inplace=True)\n",
    "    \n",
    "    df.columns = ['datetime', 'open', 'high', 'low', 'close', 'volume']\n",
    "    \n",
    "    df['date'] = pd.to_datetime(df['datetime'], infer_datetime_format=True)\n",
    "    df['open'] = df['open'].astype('float')\n",
    "    df['high'] = df['high'].astype('float')\n",
    "    df['low'] = df['low'].astype('float')\n",
    "    df['close'] = df['close'].astype('float')\n",
    "    df['volume'] = df['volume'].astype('int')\n",
    "    \n",
    "    return df"
   ]
  },
  {
   "cell_type": "code",
   "execution_count": 7,
   "metadata": {
    "ExecuteTime": {
     "end_time": "2020-02-03T12:59:34.225636Z",
     "start_time": "2020-02-03T12:59:34.205126Z"
    },
    "run_control": {
     "marked": false
    }
   },
   "outputs": [],
   "source": [
    "df_stock_clean = clean_df(df_stock)"
   ]
  },
  {
   "cell_type": "code",
   "execution_count": 8,
   "metadata": {
    "ExecuteTime": {
     "end_time": "2020-02-03T12:59:34.246982Z",
     "start_time": "2020-02-03T12:59:34.231061Z"
    }
   },
   "outputs": [
    {
     "name": "stdout",
     "output_type": "stream",
     "text": [
      "<class 'pandas.core.frame.DataFrame'>\n",
      "RangeIndex: 5001 entries, 0 to 5000\n",
      "Data columns (total 7 columns):\n",
      "datetime    5001 non-null object\n",
      "open        5001 non-null float64\n",
      "high        5001 non-null float64\n",
      "low         5001 non-null float64\n",
      "close       5001 non-null float64\n",
      "volume      5001 non-null int64\n",
      "date        5001 non-null datetime64[ns]\n",
      "dtypes: datetime64[ns](1), float64(4), int64(1), object(1)\n",
      "memory usage: 273.6+ KB\n"
     ]
    }
   ],
   "source": [
    "# df_stock_clean.info()"
   ]
  },
  {
   "cell_type": "code",
   "execution_count": 9,
   "metadata": {
    "ExecuteTime": {
     "end_time": "2020-02-03T12:59:34.263233Z",
     "start_time": "2020-02-03T12:59:34.250488Z"
    }
   },
   "outputs": [
    {
     "data": {
      "text/html": [
       "<div>\n",
       "<style scoped>\n",
       "    .dataframe tbody tr th:only-of-type {\n",
       "        vertical-align: middle;\n",
       "    }\n",
       "\n",
       "    .dataframe tbody tr th {\n",
       "        vertical-align: top;\n",
       "    }\n",
       "\n",
       "    .dataframe thead th {\n",
       "        text-align: right;\n",
       "    }\n",
       "</style>\n",
       "<table border=\"1\" class=\"dataframe\">\n",
       "  <thead>\n",
       "    <tr style=\"text-align: right;\">\n",
       "      <th></th>\n",
       "      <th>datetime</th>\n",
       "      <th>open</th>\n",
       "      <th>high</th>\n",
       "      <th>low</th>\n",
       "      <th>close</th>\n",
       "      <th>volume</th>\n",
       "      <th>date</th>\n",
       "    </tr>\n",
       "  </thead>\n",
       "  <tbody>\n",
       "    <tr>\n",
       "      <th>0</th>\n",
       "      <td>2020-01-31</td>\n",
       "      <td>50.96</td>\n",
       "      <td>51.06</td>\n",
       "      <td>49.80</td>\n",
       "      <td>50.27</td>\n",
       "      <td>29988200</td>\n",
       "      <td>2020-01-31</td>\n",
       "    </tr>\n",
       "    <tr>\n",
       "      <th>1</th>\n",
       "      <td>2020-01-30</td>\n",
       "      <td>49.97</td>\n",
       "      <td>51.50</td>\n",
       "      <td>49.80</td>\n",
       "      <td>51.50</td>\n",
       "      <td>23083200</td>\n",
       "      <td>2020-01-30</td>\n",
       "    </tr>\n",
       "    <tr>\n",
       "      <th>2</th>\n",
       "      <td>2020-01-29</td>\n",
       "      <td>51.70</td>\n",
       "      <td>51.89</td>\n",
       "      <td>50.46</td>\n",
       "      <td>50.75</td>\n",
       "      <td>23323000</td>\n",
       "      <td>2020-01-29</td>\n",
       "    </tr>\n",
       "    <tr>\n",
       "      <th>3</th>\n",
       "      <td>2020-01-28</td>\n",
       "      <td>51.20</td>\n",
       "      <td>52.09</td>\n",
       "      <td>51.08</td>\n",
       "      <td>51.20</td>\n",
       "      <td>23046400</td>\n",
       "      <td>2020-01-28</td>\n",
       "    </tr>\n",
       "    <tr>\n",
       "      <th>4</th>\n",
       "      <td>2020-01-27</td>\n",
       "      <td>51.66</td>\n",
       "      <td>51.82</td>\n",
       "      <td>50.48</td>\n",
       "      <td>50.51</td>\n",
       "      <td>38779700</td>\n",
       "      <td>2020-01-27</td>\n",
       "    </tr>\n",
       "  </tbody>\n",
       "</table>\n",
       "</div>"
      ],
      "text/plain": [
       "     datetime   open   high    low  close    volume       date\n",
       "0  2020-01-31  50.96  51.06  49.80  50.27  29988200 2020-01-31\n",
       "1  2020-01-30  49.97  51.50  49.80  51.50  23083200 2020-01-30\n",
       "2  2020-01-29  51.70  51.89  50.46  50.75  23323000 2020-01-29\n",
       "3  2020-01-28  51.20  52.09  51.08  51.20  23046400 2020-01-28\n",
       "4  2020-01-27  51.66  51.82  50.48  50.51  38779700 2020-01-27"
      ]
     },
     "execution_count": 9,
     "metadata": {},
     "output_type": "execute_result"
    }
   ],
   "source": [
    "# df_stock_clean.head()"
   ]
  },
  {
   "cell_type": "code",
   "execution_count": null,
   "metadata": {},
   "outputs": [],
   "source": []
  }
 ],
 "metadata": {
  "kernelspec": {
   "display_name": "Python 3",
   "language": "python",
   "name": "python3"
  },
  "language_info": {
   "codemirror_mode": {
    "name": "ipython",
    "version": 3
   },
   "file_extension": ".py",
   "mimetype": "text/x-python",
   "name": "python",
   "nbconvert_exporter": "python",
   "pygments_lexer": "ipython3",
   "version": "3.7.5"
  },
  "latex_envs": {
   "LaTeX_envs_menu_present": true,
   "autoclose": false,
   "autocomplete": true,
   "bibliofile": "biblio.bib",
   "cite_by": "apalike",
   "current_citInitial": 1,
   "eqLabelWithNumbers": true,
   "eqNumInitial": 1,
   "hotkeys": {
    "equation": "Ctrl-E",
    "itemize": "Ctrl-I"
   },
   "labels_anchors": false,
   "latex_user_defs": false,
   "report_style_numbering": false,
   "user_envs_cfg": false
  },
  "toc": {
   "base_numbering": 1,
   "nav_menu": {},
   "number_sections": true,
   "sideBar": true,
   "skip_h1_title": false,
   "title_cell": "Table of Contents",
   "title_sidebar": "Contents",
   "toc_cell": false,
   "toc_position": {},
   "toc_section_display": true,
   "toc_window_display": false
  },
  "varInspector": {
   "cols": {
    "lenName": 16,
    "lenType": 16,
    "lenVar": 40
   },
   "kernels_config": {
    "python": {
     "delete_cmd_postfix": "",
     "delete_cmd_prefix": "del ",
     "library": "var_list.py",
     "varRefreshCmd": "print(var_dic_list())"
    },
    "r": {
     "delete_cmd_postfix": ") ",
     "delete_cmd_prefix": "rm(",
     "library": "var_list.r",
     "varRefreshCmd": "cat(var_dic_list()) "
    }
   },
   "types_to_exclude": [
    "module",
    "function",
    "builtin_function_or_method",
    "instance",
    "_Feature"
   ],
   "window_display": false
  }
 },
 "nbformat": 4,
 "nbformat_minor": 2
}
